{
 "cells": [
  {
   "cell_type": "code",
   "execution_count": 2,
   "metadata": {},
   "outputs": [
    {
     "name": "stdout",
     "output_type": "stream",
     "text": [
      "NpzFile 'results/AA/BA_degree_11_1_0.npz' with keys: A, Apre, cosine_similarity, loss, taus...\n"
     ]
    }
   ],
   "source": [
    "import numpy as np\n",
    "\n",
    "# Load the NPZ file\n",
    "npzfile = np.load('results/AA/BA_degree_11_1_0.npz')\n",
    "\n",
    "# Access the arrays in the NPZ file\n",
    "arr1 = npzfile['cosine_similarity']\n",
    "\n",
    "\n",
    "print(npzfile)"
   ]
  },
  {
   "cell_type": "code",
   "execution_count": 1,
   "metadata": {},
   "outputs": [],
   "source": [
    "modelLoads= [\"AA\", \"AB\", \"BA\", \"BB\", \"infer2018\"]\n",
    "weightModels= [\"degree\", \"gravity\", \"identical\"]\n",
    "randomGraphs= [\"GEO\", \"ER\", \"WS\", \"BA\"]\n",
    "seeds= [10, 11, 12, 13, 14]\n",
    "strains= [1, 2, 3, 4]\n",
    "commands=set()\n",
    "\n",
    "#experiment1\n",
    "for modelLoad in modelLoads:\n",
    "    for randomGraph in randomGraphs:\n",
    "        for seed in seeds:\n",
    "            if modelLoad in[\"infer2018\", \"BB\", \"BA\"]:\n",
    "                command= f\"python run.py --epoches {100000} --modelLoad {modelLoad} --weightModel identical --randomGraph {randomGraph} --seed {seed} --strains {3}\"\n",
    "                commands.add(command)\n",
    "            else:\n",
    "                command= f\"python run.py --epoches {200000} --modelLoad {modelLoad} --weightModel identical --randomGraph {randomGraph} --seed {seed} --strains {3}\"\n",
    "                commands.add(command)\n",
    "#experiment2\n",
    "for strain in strains:\n",
    "    for randomGraph in randomGraphs:\n",
    "        for seed in seeds:\n",
    "            command= f\"python run.py --epoches {200000} --modelLoad AA --weightModel identical --randomGraph {randomGraph} --seed {seed} --strains {strain}\"\n",
    "            commands.add(command)\n",
    "\n",
    "with open(\"myCommands.bat\", 'w') as file:\n",
    "    # Write each element on a new line\n",
    "    for i, string in enumerate(commands):\n",
    "        file.write(f\"echo \\\"{string} --CMDprogress_{i}_{len(commands)-1}\\\"\\n\")\n",
    "        file.write(f\"{string} --CMDprogress_{i}_{len(commands)-1}\\n\")\n",
    "        \n",
    "    \n",
    "with open(\"myCommands.sh\", 'w') as file:\n",
    "    # Write each element on a new line\n",
    "    for i, string in enumerate(commands):\n",
    "        file.write(f\"echo \\\"{string} --CMDprogress_{i}_{len(commands)-1}\\\"\\n\")\n",
    "        file.write(f\"{string} --CMDprogress_{i}_{len(commands)-1}\\n\")\n",
    "        "
   ]
  }
 ],
 "metadata": {
  "kernelspec": {
   "display_name": "tf1",
   "language": "python",
   "name": "python3"
  },
  "language_info": {
   "codemirror_mode": {
    "name": "ipython",
    "version": 3
   },
   "file_extension": ".py",
   "mimetype": "text/x-python",
   "name": "python",
   "nbconvert_exporter": "python",
   "pygments_lexer": "ipython3",
   "version": "3.11.4"
  }
 },
 "nbformat": 4,
 "nbformat_minor": 2
}
