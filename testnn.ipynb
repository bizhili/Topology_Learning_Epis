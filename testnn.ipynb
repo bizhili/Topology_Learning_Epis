{
 "cells": [
  {
   "cell_type": "code",
   "execution_count": 1,
   "metadata": {},
   "outputs": [],
   "source": [
    "import torch\n",
    "import torch.nn.functional as F"
   ]
  },
  {
   "cell_type": "code",
   "execution_count": 6,
   "metadata": {},
   "outputs": [],
   "source": [
    "device= \"cuda\"\n",
    "strain= 3\n",
    "channel= 4\n",
    "midLayer= 10\n",
    "timeDim= 20\n",
    "n= 50"
   ]
  },
  {
   "cell_type": "code",
   "execution_count": 13,
   "metadata": {},
   "outputs": [],
   "source": [
    "forward1= torch.nn.Linear(timeDim, midLayer, device= device)\n",
    "forward2= torch.nn.Linear(timeDim, midLayer, device= device)\n",
    "q = torch.nn.Linear(midLayer, midLayer*channel, device= device)\n",
    "k = torch.nn.Linear(midLayer, midLayer*channel, device= device)\n",
    "v = torch.nn.Linear(midLayer, midLayer*channel, device= device) \n",
    "attention = torch.nn.MultiheadAttention(midLayer*channel, channel, dropout= 0, device= device)\n",
    "forward3= torch.nn.Linear(midLayer*channel, midLayer, device= device)\n",
    "\n",
    "WBias= torch.randn((n, n), dtype= torch.float32, device=device)*1e-6\n",
    "WBias= torch.nn.Parameter(WBias)"
   ]
  },
  {
   "cell_type": "code",
   "execution_count": 17,
   "metadata": {},
   "outputs": [
    {
     "name": "stdout",
     "output_type": "stream",
     "text": [
      "torch.Size([50, 3, 10])\n",
      "torch.Size([50, 3, 40])\n"
     ]
    }
   ],
   "source": [
    "x= torch.ones((n, strain, timeDim), device= device)\n",
    "A1= forward1(x)# [6, 2, 4*3]\n",
    "print(A1.shape)\n",
    "y1= forward2(x).view(strain*midLayer, n)# [8, 6]\n",
    "Aq= q(A1)# [6, 2, 4*3]\n",
    "Ak= k(A1)# [6, 2, 4*3]\n",
    "Av= v(A1)# [6, 2, 4*3]\n",
    "A2, _= attention(Aq, Ak, Av)\n",
    "print(A2.shape)\n",
    "A2= A2.transpose(1, 2)#.contiguous().view(batch_size, seq_len, -1)\n",
    "# A3= forward3(A2).view(n, strain*midLayer)# [6, 8]\n",
    "# Z= A3.matmul(y1)+ WBias"
   ]
  },
  {
   "cell_type": "code",
   "execution_count": 43,
   "metadata": {},
   "outputs": [
    {
     "name": "stdout",
     "output_type": "stream",
     "text": [
      "torch.Size([50, 40, 4])\n"
     ]
    }
   ],
   "source": [
    "print(A2.shape)"
   ]
  }
 ],
 "metadata": {
  "kernelspec": {
   "display_name": "tf1",
   "language": "python",
   "name": "python3"
  },
  "language_info": {
   "codemirror_mode": {
    "name": "ipython",
    "version": 3
   },
   "file_extension": ".py",
   "mimetype": "text/x-python",
   "name": "python",
   "nbconvert_exporter": "python",
   "pygments_lexer": "ipython3",
   "version": "3.11.4"
  }
 },
 "nbformat": 4,
 "nbformat_minor": 2
}
