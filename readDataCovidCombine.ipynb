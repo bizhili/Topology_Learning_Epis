{
 "cells": [
  {
   "cell_type": "code",
   "execution_count": 1,
   "metadata": {},
   "outputs": [
    {
     "name": "stdout",
     "output_type": "stream",
     "text": [
      "(80, 234)\n",
      "(50, 234)\n",
      "(80, 234)\n"
     ]
    }
   ],
   "source": [
    "import numpy as np\n",
    "import matplotlib.pyplot as plt\n",
    "import pandas as pd\n",
    "\n",
    "def read_epi_data(fileName, popData, requireNum= 80, start= 1):\n",
    "    epiOData = np.genfromtxt(fileName, delimiter=',', skip_header= 0)[:, 1:]\n",
    "    epiOData = epiOData[start:start+requireNum, :]\n",
    "    print(epiOData.shape)\n",
    "    epiODataNew= np.zeros((requireNum,epiOData.shape[1]))\n",
    "    epiODataNew[requireNum-epiOData.shape[0]:, :]= epiOData.copy()\n",
    "    epiOData = epiODataNew\n",
    "    epiData= epiOData.copy()/popData[None, :]\n",
    "    ranked_indices = np.argsort(epiOData[-1, :])\n",
    "    return epiOData, epiData, ranked_indices\n",
    "Epi= \"covid\" # sars, covid, H1N1\n",
    "# Read the CSV file into a NumPy array\n",
    "popData = np.genfromtxt('empirical_data/populations.csv', delimiter=',', skip_header= 0)#800,  china= 1\n",
    "file_path = 'empirical_data/Country_Population_final.csv'\n",
    "data = pd.read_csv(file_path)\n",
    "popName= data[\"Country\"].tolist()\n",
    "epiODataSars, epiDataSars, ranked_indices_Sars= read_epi_data('empirical_data/infected_numbers_sars.csv', popData, requireNum= 80, start= 1)\n",
    "epiODataH1N1, epiDataH1N1, ranked_indices_H1N1= read_epi_data('empirical_data/infected_numbers_H1N1.csv', popData,  requireNum= 80, start= 1)\n",
    "epiODataCovid, epiDataCovid, ranked_indices_Covid= read_epi_data('empirical_data/infected_numbers_covid.csv', popData,  requireNum= 80, start=1)\n",
    "ranked_pop= np.argsort(popData)"
   ]
  },
  {
   "cell_type": "code",
   "execution_count": 33,
   "metadata": {},
   "outputs": [
    {
     "name": "stdout",
     "output_type": "stream",
     "text": [
      "93\n"
     ]
    },
    {
     "data": {
      "text/plain": [
       "Text(0, 0.5, 'Cumulative infected number')"
      ]
     },
     "execution_count": 33,
     "metadata": {},
     "output_type": "execute_result"
    },
    {
     "data": {
      "image/png": "[encoded data removed]",
      "text/plain": [
       "<Figure size 640x480 with 1 Axes>"
      ]
     },
     "metadata": {},
     "output_type": "display_data"
    }
   ],
   "source": [
    "setCovid= set(ranked_indices_Covid[-78:])\n",
    "setH1N1= set(ranked_indices_H1N1[-42:])\n",
    "setSars= set(ranked_indices_Sars[-6:])\n",
    "\n",
    "usedIdx= setCovid.union(setH1N1).union(setSars)\n",
    "\n",
    "print(len(usedIdx))\n",
    "\n",
    "\n",
    "# plt.figure(figsize=(12, 5))\n",
    "plt.plot(epiODataH1N1[: , ranked_indices_H1N1[-42]])# 210, 193, 195\n",
    "# plt.legend([popName[i]+\":\"+ str(np.round(popData[i]/1e7, 2)) for i in ranked_indices_Sars[-7:]])\n",
    "plt.xlabel(\"Time(days)\")\n",
    "plt.ylabel(\"Cumulative infected number\")"
   ]
  },
  {
   "cell_type": "code",
   "execution_count": 20,
   "metadata": {},
   "outputs": [
    {
     "name": "stdout",
     "output_type": "stream",
     "text": [
      "(80, 91)\n",
      "(91,)\n"
     ]
    }
   ],
   "source": [
    "testEpiData= np.concatenate([epiODataH1N1[:, np.array(list(setH1N1))], ])\n",
    "print(testEpiData.shape)\n",
    "testPopData= popData[np.array(list(setH1N1))]\n",
    "print(testPopData.shape)\n",
    "EpiFouc= \"H1N1_\"\n",
    "np.savetxt(f'testData/{EpiFouc}test_data.csv', testEpiData, delimiter=',', fmt='%d')\n",
    "np.savetxt(f'testData/{EpiFouc}test_pop.csv', testPopData, delimiter=',', fmt='%d')\n",
    "np.savetxt(f'testData/{EpiFouc}test_pop_inx.csv', np.array(list(setH1N1)), delimiter=',', fmt='%d')"
   ]
  },
  {
   "cell_type": "code",
   "execution_count": 30,
   "metadata": {},
   "outputs": [
    {
     "name": "stdout",
     "output_type": "stream",
     "text": [
      "(80, 59)\n",
      "(59,)\n"
     ]
    }
   ],
   "source": [
    "testEpiData= np.concatenate([epiODataCovid[:, np.array(list(setCovid))], ])\n",
    "print(testEpiData.shape)\n",
    "testPopData= popData[np.array(list(setCovid))]\n",
    "print(testPopData.shape)\n",
    "EpiFouc= \"Covid_\"\n",
    "np.savetxt(f'testData/{EpiFouc}test_data.csv', testEpiData, delimiter=',', fmt='%d')\n",
    "np.savetxt(f'testData/{EpiFouc}test_pop.csv', testPopData, delimiter=',', fmt='%d')\n",
    "np.savetxt(f'testData/{EpiFouc}test_pop_inx.csv', np.array(list(setCovid)), delimiter=',', fmt='%d')"
   ]
  },
  {
   "cell_type": "code",
   "execution_count": 31,
   "metadata": {},
   "outputs": [
    {
     "name": "stdout",
     "output_type": "stream",
     "text": [
      "(80, 5)\n",
      "(5,)\n"
     ]
    }
   ],
   "source": [
    "testEpiData= np.concatenate([epiODataSars[:, np.array(list(setSars))], ])\n",
    "print(testEpiData.shape)\n",
    "testPopData= popData[np.array(list(setSars))]\n",
    "print(testPopData.shape)\n",
    "EpiFouc= \"Sars_\"\n",
    "np.savetxt(f'testData/{EpiFouc}test_data.csv', testEpiData, delimiter=',', fmt='%d')\n",
    "np.savetxt(f'testData/{EpiFouc}test_pop.csv', testPopData, delimiter=',', fmt='%d')\n",
    "np.savetxt(f'testData/{EpiFouc}test_pop_inx.csv', np.array(list(setSars)), delimiter=',', fmt='%d')"
   ]
  },
  {
   "cell_type": "code",
   "execution_count": 34,
   "metadata": {},
   "outputs": [
    {
     "name": "stdout",
     "output_type": "stream",
     "text": [
      "(240, 93)\n",
      "(93,)\n"
     ]
    }
   ],
   "source": [
    "testEpiData= np.concatenate([epiODataSars[:, np.array(list(usedIdx))], \n",
    "                             epiODataH1N1[:, np.array(list(usedIdx))], \n",
    "                             epiODataCovid[:, np.array(list(usedIdx))] ])\n",
    "print(testEpiData.shape)\n",
    "testPopData= popData[np.array(list(usedIdx))]\n",
    "print(testPopData.shape)\n",
    "np.savetxt(f'testData/test_data.csv', testEpiData, delimiter=',', fmt='%d')\n",
    "np.savetxt(f'testData/test_pop.csv', testPopData, delimiter=',', fmt='%d')\n",
    "np.savetxt(f'testData/test_pop_inx.csv', np.array(list(usedIdx)), delimiter=',', fmt='%d')"
   ]
  }
 ],
 "metadata": {
  "kernelspec": {
   "display_name": "tf",
   "language": "python",
   "name": "python3"
  },
  "language_info": {
   "codemirror_mode": {
    "name": "ipython",
    "version": 3
   },
   "file_extension": ".py",
   "mimetype": "text/x-python",
   "name": "python",
   "nbconvert_exporter": "python",
   "pygments_lexer": "ipython3",
   "version": "3.9.15"
  }
 },
 "nbformat": 4,
 "nbformat_minor": 2
}
