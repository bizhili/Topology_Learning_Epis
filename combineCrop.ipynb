{
 "cells": [
  {
   "cell_type": "code",
   "execution_count": 52,
   "metadata": {},
   "outputs": [],
   "source": [
    "import pandas as pd\n",
    "\n",
    "\n",
    "file_path = 'testData/Country_Population_final.csv'\n",
    "data = pd.read_csv(file_path)\n",
    "dataName= data[\"Country\"].tolist()\n",
    "newCropData= []\n",
    "\n",
    "file_path = 'cropArea.csv'\n",
    "dataCrop = pd.read_csv(file_path)\n",
    "dataCropName= dataCrop[\"Country\"].tolist()\n",
    "dataCropdata= dataCrop[\"Area\"].tolist()\n",
    "\n",
    "for i, name in enumerate(dataCropName):\n",
    "    dataCropName[i]= dataCropName[i].strip(\"\\\"\")\n",
    "    dataCropName[i]= dataCropName[i].strip(\"\")\n"
   ]
  },
  {
   "cell_type": "code",
   "execution_count": 53,
   "metadata": {},
   "outputs": [
    {
     "name": "stdout",
     "output_type": "stream",
     "text": [
      "29\n"
     ]
    }
   ],
   "source": [
    "countt= 0\n",
    "for i in dataName:\n",
    "    try:\n",
    "        idx= dataCropName.index(i.strip())\n",
    "        newCropData.append(dataCropdata[idx])\n",
    "    except:\n",
    "        countt+= 1\n",
    "        newCropData.append(0)\n",
    "\n",
    "print(countt)\n",
    "data[\"CropArea\"]= newCropData"
   ]
  },
  {
   "cell_type": "code",
   "execution_count": 54,
   "metadata": {},
   "outputs": [],
   "source": [
    "data.to_csv(\"output.csv\", index=False)"
   ]
  }
 ],
 "metadata": {
  "kernelspec": {
   "display_name": "tf",
   "language": "python",
   "name": "python3"
  },
  "language_info": {
   "codemirror_mode": {
    "name": "ipython",
    "version": 3
   },
   "file_extension": ".py",
   "mimetype": "text/x-python",
   "name": "python",
   "nbconvert_exporter": "python",
   "pygments_lexer": "ipython3",
   "version": "3.9.15"
  }
 },
 "nbformat": 4,
 "nbformat_minor": 2
}
