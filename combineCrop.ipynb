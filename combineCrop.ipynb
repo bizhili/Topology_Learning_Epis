{
 "cells": [
  {
   "cell_type": "code",
   "execution_count": null,
   "metadata": {},
   "outputs": [],
   "source": [
    "import pandas as pd\n",
    "\n",
    "\n",
    "file_path = 'testData/Country_Population_final.csv'\n",
    "data = pd.read_csv(file_path)\n",
    "dataName= data[\"Country\"].tolist()\n",
    "dataPopOrig= data[\"Population\"].tolist()\n",
    "\n",
    "\n",
    "file_path = 'world-city-listing-table.csv'\n",
    "dataCrop = pd.read_csv(file_path)\n",
    "dataCropName= dataCrop[\"country\"].tolist()\n",
    "dataCropdata= dataCrop[\"population\"].tolist()\n",
    "\n",
    "country2pop= dict()\n",
    "\n",
    "for i, name in enumerate(dataCropName):\n",
    "    dataCropName[i]= dataCropName[i].strip(\"\\\"\")\n",
    "    dataCropName[i]= dataCropName[i].strip(\"\")\n",
    "\n"
   ]
  },
  {
   "cell_type": "code",
   "execution_count": 26,
   "metadata": {},
   "outputs": [
    {
     "name": "stdout",
     "output_type": "stream",
     "text": [
      "132\n"
     ]
    }
   ],
   "source": [
    "for i, name in enumerate(dataCropName):\n",
    "    if country2pop.get(name, -1)== -1:\n",
    "        country2pop[name]= 0\n",
    "    country2pop[name]+= dataCropdata[i]\n",
    "print(len(country2pop.keys()))"
   ]
  },
  {
   "cell_type": "code",
   "execution_count": 33,
   "metadata": {},
   "outputs": [
    {
     "name": "stdout",
     "output_type": "stream",
     "text": [
      "102\n"
     ]
    }
   ],
   "source": [
    "countt= 0\n",
    "newCropData= []\n",
    "for idx, i in  enumerate(dataName):\n",
    "    try:\n",
    "        # idx= country2pop.index(i.strip())\n",
    "        newCropData.append(country2pop[i])\n",
    "    except:\n",
    "        countt+= 1\n",
    "        newCropData.append(dataPopOrig[idx])\n",
    "print(countt)\n",
    "data[\"CityPop\"]= newCropData"
   ]
  },
  {
   "cell_type": "code",
   "execution_count": 34,
   "metadata": {},
   "outputs": [],
   "source": [
    "data.to_csv(\"output.csv\", index=False)"
   ]
  },
  {
   "cell_type": "code",
   "execution_count": null,
   "metadata": {},
   "outputs": [],
   "source": [
    "from geopy.geocoders import Nominatim\n",
    "\n",
    "# List of states and locations\n",
    "locations = popName\n",
    "\n",
    "# Initialize geolocator\n",
    "geolocator = Nominatim(user_agent=\"geo_locator\")\n",
    "\n",
    "# Dictionary to store results\n",
    "coordinates = {}\n",
    "coordinatesList = []\n",
    "\n",
    "# Get coordinates for each location\n",
    "for location in locations:\n",
    "    try:\n",
    "        loc = geolocator.geocode(location, featuretype=\"country\")\n",
    "        if loc:\n",
    "            coordinates[location] = (loc.latitude, loc.longitude)\n",
    "        else:\n",
    "            loc = geolocator.geocode(location)\n",
    "            coordinates[location] = (loc.latitude, loc.longitude)  # If location not found\n",
    "            print(\"Not a country:\", location)\n",
    "    except Exception as e:\n",
    "        coordinates[location] = (0, 0)  # Handle errors gracefully\n",
    "        print(location)\n",
    "    coordinatesList.append([coordinates[location][0], coordinates[location][1]])\n"
   ]
  }
 ],
 "metadata": {
  "kernelspec": {
   "display_name": "tf",
   "language": "python",
   "name": "python3"
  },
  "language_info": {
   "codemirror_mode": {
    "name": "ipython",
    "version": 3
   },
   "file_extension": ".py",
   "mimetype": "text/x-python",
   "name": "python",
   "nbconvert_exporter": "python",
   "pygments_lexer": "ipython3",
   "version": "3.9.15"
  }
 },
 "nbformat": 4,
 "nbformat_minor": 2
}
