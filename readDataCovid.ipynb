{
 "cells": [
  {
   "cell_type": "code",
   "execution_count": 2,
   "metadata": {},
   "outputs": [
    {
     "name": "stdout",
     "output_type": "stream",
     "text": [
      "(97, 235)\n",
      "29\n",
      "[   0.    0.    0.    0.    0.    0.    0.    0.    0.    0.    0.    0.\n",
      "    0.    0.    0.    0.    0.    0.    0.    0.  167.  219.  264.  306.\n",
      "  350.  386.  456.  487. 1323. 1408. 1485. 1550. 1622. 1804. 2223. 2270.\n",
      " 2353. 2416. 2601. 2671. 2722. 2781. 2890. 2961. 3169. 3235. 3293. 3389.\n",
      " 3547. 3547. 3861. 3947. 4288. 4435. 4645. 4832. 5046. 5458. 5659. 5861.]\n",
      "(60, 234)\n",
      "(60, 234)\n"
     ]
    }
   ],
   "source": [
    "import numpy as np\n",
    "import matplotlib.pyplot as plt\n",
    "import pandas as pd\n",
    "\n",
    "Epi= \"sars\" # sars, covid, H1N1\n",
    "\n",
    "# Read the CSV file into a NumPy array\n",
    "epiOData = np.genfromtxt(f'empirical_data/infected_numbers_{Epi}.csv', delimiter=',', skip_header= 0)\n",
    "popData = np.genfromtxt('empirical_data/populations.csv', delimiter=',', skip_header= 0)\n",
    "# Replace 'file_path.csv' with the path to your CSV file\n",
    "file_path = 'empirical_data/Country_Population_final.csv'\n",
    "# Read the CSV file\n",
    "data = pd.read_csv(file_path)\n",
    "# Display the first few rows of the DataFrame\n",
    "popName= data[\"Country\"].tolist()\n",
    "start= 1\n",
    "endIdx= 40\n",
    "requireNum= 60\n",
    "print(epiOData.shape)\n",
    "epiOData = epiOData[start:start+endIdx,1:]\n",
    "epiODataNew= np.zeros((requireNum,epiOData.shape[1]))\n",
    "epiODataNew[requireNum-epiOData.shape[0]:, :]= epiOData.copy()\n",
    "epiOData = epiODataNew\n",
    "\n",
    "epiData= epiOData.copy()/popData[None, :]\n",
    "epiNewData = epiData.copy()\n",
    "epiNewData[1:, :] = epiNewData[1:, :]-epiNewData[:-1, :]\n",
    "print(np.sum(epiNewData<0))\n",
    "epiNewData[epiNewData<0]= 0\n",
    "sumEpiData= np.sum(epiOData, axis= 0)\n",
    "ranked_indices = np.argsort(sumEpiData)\n",
    "# print(ranked_indices)\n",
    "print(np.sum(epiOData, axis= 1))\n",
    "print(epiData.shape)\n",
    "print(epiOData.shape)\n"
   ]
  },
  {
   "cell_type": "code",
   "execution_count": 3,
   "metadata": {},
   "outputs": [
    {
     "data": {
      "text/plain": [
       "[<matplotlib.lines.Line2D at 0x18f3fe870a0>]"
      ]
     },
     "execution_count": 3,
     "metadata": {},
     "output_type": "execute_result"
    },
    {
     "data": {
      "image/png": "[encoded data removed]",
      "text/plain": [
       "<Figure size 1200x500 with 1 Axes>"
      ]
     },
     "metadata": {},
     "output_type": "display_data"
    }
   ],
   "source": [
    "lastUsed= 100 # 34, 20, 21, \n",
    "plt.figure(figsize=(12, 5))\n",
    "plt.plot(epiData[: , ranked_indices[-1]])"
   ]
  },
  {
   "cell_type": "code",
   "execution_count": 4,
   "metadata": {},
   "outputs": [
    {
     "name": "stdout",
     "output_type": "stream",
     "text": [
      "['Congo (Brazzaville)', 'Greenland', 'Iceland', 'Algeria', 'Benin', 'Burkina Faso', 'Ghana', \"Cote d'Ivoire\", 'Nigeria', 'Niger', 'Tunisia', 'Togo', 'Estonia', 'Finland', 'Guernsey', 'Jersey', 'Isle of Man', 'Falkland Islands', 'Netherlands', 'Denmark', 'Faroe Islands', 'Luxembourg', 'Norway', 'Botswana', 'Liberia', 'Morocco', 'Seychelles', 'Mauritania', 'Hungary', 'Senegal', 'Czech Republic', 'Israel', 'Malta', 'Austria', 'Portugal', 'Bosnia and Herzegovina', 'Turkey', 'Greece', 'Moldova', 'Gibraltar', 'Serbia', 'Montenegro', 'Slovakia', 'Turks and Caicos Islands', 'Dominican Republic', 'Guatemala', 'Honduras', 'Jamaica', 'Macedonia', 'Saint Pierre and Miquelon', 'Wake Island', 'Libya', 'Croatia', 'South Sudan', 'Tanzania', 'Uganda', 'Kenya', 'Rwanda', 'Egypt', 'Sudan', 'Burundi', 'Albania', 'Ethiopia', 'Cape Verde', 'Guinea', 'Cyprus', 'Somalia', 'Poland', 'Macau', 'South Korea', 'Belgium', 'Slovenia', 'Bulgaria', 'India', 'Indonesia', 'South Africa', 'Kuwait', 'Australia', 'Spain', 'Philippines', 'Sweden', 'Romania', 'Japan', 'Ireland', 'Brazil', 'Mongolia', 'Switzerland', 'Malaysia', 'France', 'Italy', 'United Kingdom', 'Germany', 'Thailand', 'Taiwan', 'Vietnam', 'Canada', 'United States', 'Singapore', 'Hong Kong', 'China']\n"
     ]
    }
   ],
   "source": [
    "print([popName[i] for i in ranked_indices[-lastUsed: ]])"
   ]
  },
  {
   "cell_type": "code",
   "execution_count": 5,
   "metadata": {},
   "outputs": [
    {
     "name": "stdout",
     "output_type": "stream",
     "text": [
      "[ 32   1   2   4   5   6   7   8   9  10  11  12  15  16  18  19  20  21\n",
      "  22  24  25  26  27  31  59  60  50  62  83  61  86  87  88  89  90  91\n",
      "  94  82  95  97  98  99 100 101 102 103 104 105  96  81 233  70  79  73\n",
      "  74  75  69  71  68  72  66  76  65  64  63  78  67  28 195 148  13  85\n",
      "  77 189 202  30 132 207  57 149  29  92 147  23 151 212  93 203  80  84\n",
      "  17  14 199 146 200   3 213 206 193 210]\n",
      "(60, 100)\n",
      "(100,)\n"
     ]
    }
   ],
   "source": [
    "print(ranked_indices[-lastUsed: ])\n",
    "testEpiData= epiOData[:, ranked_indices[-lastUsed: ]]\n",
    "testPopData= popData[ranked_indices[-lastUsed: ]]\n",
    "print(testEpiData.shape)\n",
    "print(testPopData.shape)\n",
    "np.savetxt(f'testData/{Epi}_test_data.csv', testEpiData, delimiter=',', fmt='%d')\n",
    "np.savetxt(f'testData/{Epi}_test_pop.csv', testPopData, delimiter=',', fmt='%d')\n",
    "np.savetxt(f'testData/{Epi}_test_pop_inx.csv', ranked_indices[-lastUsed: ], delimiter=',', fmt='%d')"
   ]
  }
 ],
 "metadata": {
  "kernelspec": {
   "display_name": "tf",
   "language": "python",
   "name": "python3"
  },
  "language_info": {
   "codemirror_mode": {
    "name": "ipython",
    "version": 3
   },
   "file_extension": ".py",
   "mimetype": "text/x-python",
   "name": "python",
   "nbconvert_exporter": "python",
   "pygments_lexer": "ipython3",
   "version": "3.9.13"
  }
 },
 "nbformat": 4,
 "nbformat_minor": 2
}
