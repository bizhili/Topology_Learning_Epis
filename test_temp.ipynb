{
 "cells": [
  {
   "cell_type": "code",
   "execution_count": 3,
   "metadata": {},
   "outputs": [
    {
     "data": {
      "text/latex": [
       "$\\displaystyle 0.0100196938611114$"
      ],
      "text/plain": [
       "0.0100196938611114"
      ]
     },
     "execution_count": 3,
     "metadata": {},
     "output_type": "execute_result"
    }
   ],
   "source": [
    "from sympy import symbols, cos, pi, sqrt, integrate\n",
    "\n",
    "# 定义变量\n",
    "x = symbols('x')\n",
    "# 定义导数表达式\n",
    "dy_dx = 0.01 * 2 * pi * cos(2 * pi * x)\n",
    "# 定义积分表达式\n",
    "integrand = sqrt(1 + dy_dx**2)\n",
    "\n",
    "# 计算积分，即弧长\n",
    "L = integrate(integrand, (x, 0, 0.01))\n",
    "L.evalf()\n"
   ]
  }
 ],
 "metadata": {
  "kernelspec": {
   "display_name": "tf1",
   "language": "python",
   "name": "python3"
  },
  "language_info": {
   "codemirror_mode": {
    "name": "ipython",
    "version": 3
   },
   "file_extension": ".py",
   "mimetype": "text/x-python",
   "name": "python",
   "nbconvert_exporter": "python",
   "pygments_lexer": "ipython3",
   "version": "3.11.4"
  }
 },
 "nbformat": 4,
 "nbformat_minor": 2
}
