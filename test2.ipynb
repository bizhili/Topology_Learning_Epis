{
 "cells": [
  {
   "cell_type": "code",
   "execution_count": 4,
   "metadata": {},
   "outputs": [
    {
     "name": "stdout",
     "output_type": "stream",
     "text": [
      "Input Tensor Shape: torch.Size([1, 1, 5, 5])\n",
      "Upscaled Tensor Shape: torch.Size([1, 1, 19, 19])\n"
     ]
    }
   ],
   "source": [
    "import torch\n",
    "import torch.nn as nn\n",
    "\n",
    "# Assuming 'input_tensor' is your input tensor with shape (batch_size, channels, 5, 5)\n",
    "input_tensor = torch.rand(1, 1, 5, 5)  # Example tensor\n",
    "\n",
    "# Define a transposed convolution layer\n",
    "upsample_layer = nn.ConvTranspose2d(in_channels=1, out_channels=1, kernel_size=3, stride=3, padding=0)\n",
    "\n",
    "# Apply the transposed convolution\n",
    "upscaled_tensor = upsample_layer(input_tensor)\n",
    "\n",
    "# Print the shapes for verification\n",
    "print(\"Input Tensor Shape:\", input_tensor.shape)\n",
    "print(\"Upscaled Tensor Shape:\", upscaled_tensor.shape)#50*50->10*10->2*2"
   ]
  }
 ],
 "metadata": {
  "kernelspec": {
   "display_name": "tf",
   "language": "python",
   "name": "python3"
  },
  "language_info": {
   "codemirror_mode": {
    "name": "ipython",
    "version": 3
   },
   "file_extension": ".py",
   "mimetype": "text/x-python",
   "name": "python",
   "nbconvert_exporter": "python",
   "pygments_lexer": "ipython3",
   "version": "3.11.4"
  }
 },
 "nbformat": 4,
 "nbformat_minor": 2
}
